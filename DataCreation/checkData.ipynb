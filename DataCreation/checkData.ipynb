{
 "cells": [
  {
   "cell_type": "code",
   "execution_count": 1,
   "id": "666ac88c",
   "metadata": {},
   "outputs": [],
   "source": [
    "import pandas as pd"
   ]
  },
  {
   "cell_type": "code",
   "execution_count": 3,
   "id": "b2f7ecd7",
   "metadata": {},
   "outputs": [],
   "source": [
    "\n",
    "df = pd.read_csv('D:/YNOV/M1/NLP/Projet/Code python good/Code Training/DataSetMangaGenre.csv')\n",
    "df = df.drop(columns=['title','status','demographic','content_rating'])\n",
    "df['char_count'] = df['description'].astype(str).apply(len)"
   ]
  },
  {
   "cell_type": "code",
   "execution_count": 4,
   "id": "1ce5a0ad",
   "metadata": {},
   "outputs": [
    {
     "name": "stdout",
     "output_type": "stream",
     "text": [
      "count    15124.000000\n",
      "mean       475.929384\n",
      "std        391.979118\n",
      "min         12.000000\n",
      "25%        273.000000\n",
      "50%        414.000000\n",
      "75%        597.000000\n",
      "max      20514.000000\n",
      "Name: char_count, dtype: float64\n"
     ]
    }
   ],
   "source": [
    "print(df['char_count'].describe())"
   ]
  },
  {
   "cell_type": "code",
   "execution_count": null,
   "id": "9b8291f3",
   "metadata": {},
   "outputs": [
    {
     "name": "stdout",
     "output_type": "stream",
     "text": [
      "Number of descriptions under 20 characters: 7\n",
      "Number of descriptions under 20 characters: 0.04628405183813806\n"
     ]
    }
   ],
   "source": [
    "nb = (df['char_count'] < 20).sum()\n",
    "print(f\"Number of descriptions under 20 characters: {nb}\")\n",
    "print(f\"Percentage of descriptions under 20 characters: {(nb/len(df))*100}\")"
   ]
  },
  {
   "cell_type": "code",
   "execution_count": 9,
   "id": "91f21e9f",
   "metadata": {},
   "outputs": [
    {
     "data": {
      "text/plain": [
       "char_count       7197956\n",
       "Romance             8364\n",
       "Comedy              7776\n",
       "Drama               6785\n",
       "Action              4690\n",
       "Slice of Life       4306\n",
       "Fantasy             4246\n",
       "Adventure           2848\n",
       "Psychological       1916\n",
       "Mystery             1780\n",
       "Tragedy             1622\n",
       "Sci-Fi              1132\n",
       "Historical          1091\n",
       "Horror              1070\n",
       "Isekai               958\n",
       "Thriller             766\n",
       "Sports               609\n",
       "Girls' Love          543\n",
       "Crime                475\n",
       "Mecha                394\n",
       "Philosophical        356\n",
       "Boys' Love           348\n",
       "Medical              124\n",
       "Magical Girls        119\n",
       "Superhero            112\n",
       "Wuxia                 66\n",
       "dtype: int64"
      ]
     },
     "execution_count": 9,
     "metadata": {},
     "output_type": "execute_result"
    }
   ],
   "source": [
    "df_count = df.drop(columns=['description'])\n",
    "\n",
    "df_count.sum().sort_values(ascending=False)"
   ]
  }
 ],
 "metadata": {
  "kernelspec": {
   "display_name": "Python 3",
   "language": "python",
   "name": "python3"
  },
  "language_info": {
   "codemirror_mode": {
    "name": "ipython",
    "version": 3
   },
   "file_extension": ".py",
   "mimetype": "text/x-python",
   "name": "python",
   "nbconvert_exporter": "python",
   "pygments_lexer": "ipython3",
   "version": "3.12.8"
  }
 },
 "nbformat": 4,
 "nbformat_minor": 5
}
